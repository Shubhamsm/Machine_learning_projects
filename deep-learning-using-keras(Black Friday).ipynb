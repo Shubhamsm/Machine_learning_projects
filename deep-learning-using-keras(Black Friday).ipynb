{
 "cells": [
  {
   "cell_type": "markdown",
   "metadata": {},
   "source": [
    "# Black friday (Regression problem).\n",
    "\n",
    "### Introduction:\n",
    "In this kernel ,we are going to build Neural network model using keras and compare it with some Machine learning algorithms,\n",
    "you will learn how and why we use early stopping in ML models and Deep learning\n",
    "\n",
    "we have 550068-rows & 12-columns, and we need to predict Purchase depending on person Id and the product Id and some other \n",
    "\n",
    "* some important libraries :\n",
    "    * **visualize** :\n",
    "        - matplotlib\n",
    "        - seaborn\n",
    "        - missingno\n",
    "    * **manipulate** :\n",
    "        - pandas\n",
    "        - numpy\n",
    "    * **modeling** :\n",
    "        - keras\n",
    "        - tensorflow\n",
    "    * **algorithms** :\n",
    "        - XGBRegressor\n",
    "        - DecisionTreeRegressor\n",
    "        - GradientBoostingRegressor\n",
    "        - KNeighborsRegressor\n",
    "        - RandomForestRegressor\n",
    "        - LinearSVR\n",
    "    * **other** :\n",
    "        - time\n",
    "        - warnings\n",
    "        - IPython\n",
    "\n"
   ]
  },
  {
   "cell_type": "code",
   "execution_count": 1,
   "metadata": {},
   "outputs": [
    {
     "ename": "ModuleNotFoundError",
     "evalue": "No module named 'xgboost'",
     "output_type": "error",
     "traceback": [
      "\u001b[0;31m---------------------------------------------------------------------------\u001b[0m",
      "\u001b[0;31mModuleNotFoundError\u001b[0m                       Traceback (most recent call last)",
      "\u001b[0;32m<ipython-input-1-f51092523e61>\u001b[0m in \u001b[0;36m<module>\u001b[0;34m\u001b[0m\n\u001b[1;32m      7\u001b[0m \u001b[0mplt\u001b[0m\u001b[0;34m.\u001b[0m\u001b[0mstyle\u001b[0m\u001b[0;34m.\u001b[0m\u001b[0muse\u001b[0m\u001b[0;34m(\u001b[0m\u001b[0;34m'bmh'\u001b[0m\u001b[0;34m)\u001b[0m\u001b[0;34m\u001b[0m\u001b[0;34m\u001b[0m\u001b[0m\n\u001b[1;32m      8\u001b[0m \u001b[0;34m\u001b[0m\u001b[0m\n\u001b[0;32m----> 9\u001b[0;31m \u001b[0;32mfrom\u001b[0m \u001b[0mxgboost\u001b[0m \u001b[0;32mimport\u001b[0m \u001b[0mXGBRegressor\u001b[0m\u001b[0;34m\u001b[0m\u001b[0;34m\u001b[0m\u001b[0m\n\u001b[0m\u001b[1;32m     10\u001b[0m \u001b[0;32mfrom\u001b[0m \u001b[0msklearn\u001b[0m\u001b[0;34m.\u001b[0m\u001b[0mtree\u001b[0m \u001b[0;32mimport\u001b[0m \u001b[0mDecisionTreeRegressor\u001b[0m\u001b[0;34m\u001b[0m\u001b[0;34m\u001b[0m\u001b[0m\n\u001b[1;32m     11\u001b[0m \u001b[0;32mfrom\u001b[0m \u001b[0msklearn\u001b[0m\u001b[0;34m.\u001b[0m\u001b[0mensemble\u001b[0m \u001b[0;32mimport\u001b[0m \u001b[0mGradientBoostingRegressor\u001b[0m\u001b[0;34m\u001b[0m\u001b[0;34m\u001b[0m\u001b[0m\n",
      "\u001b[0;31mModuleNotFoundError\u001b[0m: No module named 'xgboost'"
     ]
    }
   ],
   "source": [
    "import pandas as pd\n",
    "import numpy as np\n",
    "\n",
    "import matplotlib.pyplot as plt\n",
    "import missingno as msno\n",
    "import seaborn as sns\n",
    "plt.style.use('bmh')\n",
    "\n",
    "from xgboost import XGBRegressor\n",
    "from sklearn.tree import DecisionTreeRegressor\n",
    "from sklearn.ensemble import GradientBoostingRegressor\n",
    "from sklearn.neighbors import KNeighborsRegressor\n",
    "from sklearn.ensemble import RandomForestRegressor\n",
    "from sklearn.svm import LinearSVR\n",
    "\n",
    "from sklearn.metrics import mean_squared_error\n",
    "from sklearn.model_selection import cross_val_score\n",
    "from sklearn.model_selection import train_test_split\n",
    "from sklearn.preprocessing import MinMaxScaler\n",
    "from sklearn.model_selection import RandomizedSearchCV\n",
    "\n",
    "from tensorflow import keras\n",
    "from tensorflow.keras import Sequential\n",
    "from tensorflow.keras.layers import Dense, BatchNormalization, LeakyReLU\n",
    "import tensorflow as tf\n",
    "\n",
    "import time\n",
    "from IPython.display import Image\n",
    "\n",
    "\n",
    "import warnings\n",
    "warnings.filterwarnings('ignore')"
   ]
  },
  {
   "cell_type": "code",
   "execution_count": 2,
   "metadata": {},
   "outputs": [],
   "source": [
    "train = pd.read_csv('datasets/keras BlackFriday/train.csv')\n",
    "test = pd.read_csv('datasets/keras BlackFriday/test.csv')"
   ]
  },
  {
   "cell_type": "markdown",
   "metadata": {},
   "source": [
    "**It will be better to combine the train and test data so we don't need to repeat the same process two time**\n",
    "**we will make a new column (kind) and we will fill it with train & test to separate the data when we finish**"
   ]
  },
  {
   "cell_type": "code",
   "execution_count": 3,
   "metadata": {},
   "outputs": [],
   "source": [
    "train['kind'] = 'train'\n",
    "test['kind'] = 'test'\n",
    "combine = pd.concat([train,test], axis=0)"
   ]
  },
  {
   "cell_type": "code",
   "execution_count": 4,
   "metadata": {},
   "outputs": [
    {
     "data": {
      "text/plain": [
       "((550068, 13), (233599, 12), (783667, 13))"
      ]
     },
     "execution_count": 4,
     "metadata": {},
     "output_type": "execute_result"
    }
   ],
   "source": [
    "train.shape, test.shape, combine.shape"
   ]
  },
  {
   "cell_type": "code",
   "execution_count": 5,
   "metadata": {},
   "outputs": [
    {
     "name": "stdout",
     "output_type": "stream",
     "text": [
      "(783667, 13)\n"
     ]
    },
    {
     "data": {
      "text/html": [
       "<div>\n",
       "<style scoped>\n",
       "    .dataframe tbody tr th:only-of-type {\n",
       "        vertical-align: middle;\n",
       "    }\n",
       "\n",
       "    .dataframe tbody tr th {\n",
       "        vertical-align: top;\n",
       "    }\n",
       "\n",
       "    .dataframe thead th {\n",
       "        text-align: right;\n",
       "    }\n",
       "</style>\n",
       "<table border=\"1\" class=\"dataframe\">\n",
       "  <thead>\n",
       "    <tr style=\"text-align: right;\">\n",
       "      <th></th>\n",
       "      <th>User_ID</th>\n",
       "      <th>Product_ID</th>\n",
       "      <th>Gender</th>\n",
       "      <th>Age</th>\n",
       "      <th>Occupation</th>\n",
       "      <th>City_Category</th>\n",
       "      <th>Stay_In_Current_City_Years</th>\n",
       "      <th>Marital_Status</th>\n",
       "      <th>Product_Category_1</th>\n",
       "      <th>Product_Category_2</th>\n",
       "      <th>Product_Category_3</th>\n",
       "      <th>Purchase</th>\n",
       "      <th>kind</th>\n",
       "    </tr>\n",
       "  </thead>\n",
       "  <tbody>\n",
       "    <tr>\n",
       "      <th>0</th>\n",
       "      <td>1000001</td>\n",
       "      <td>P00069042</td>\n",
       "      <td>F</td>\n",
       "      <td>0-17</td>\n",
       "      <td>10</td>\n",
       "      <td>A</td>\n",
       "      <td>2</td>\n",
       "      <td>0</td>\n",
       "      <td>3</td>\n",
       "      <td>NaN</td>\n",
       "      <td>NaN</td>\n",
       "      <td>8370.0</td>\n",
       "      <td>train</td>\n",
       "    </tr>\n",
       "    <tr>\n",
       "      <th>1</th>\n",
       "      <td>1000001</td>\n",
       "      <td>P00248942</td>\n",
       "      <td>F</td>\n",
       "      <td>0-17</td>\n",
       "      <td>10</td>\n",
       "      <td>A</td>\n",
       "      <td>2</td>\n",
       "      <td>0</td>\n",
       "      <td>1</td>\n",
       "      <td>6.0</td>\n",
       "      <td>14.0</td>\n",
       "      <td>15200.0</td>\n",
       "      <td>train</td>\n",
       "    </tr>\n",
       "    <tr>\n",
       "      <th>2</th>\n",
       "      <td>1000001</td>\n",
       "      <td>P00087842</td>\n",
       "      <td>F</td>\n",
       "      <td>0-17</td>\n",
       "      <td>10</td>\n",
       "      <td>A</td>\n",
       "      <td>2</td>\n",
       "      <td>0</td>\n",
       "      <td>12</td>\n",
       "      <td>NaN</td>\n",
       "      <td>NaN</td>\n",
       "      <td>1422.0</td>\n",
       "      <td>train</td>\n",
       "    </tr>\n",
       "    <tr>\n",
       "      <th>3</th>\n",
       "      <td>1000001</td>\n",
       "      <td>P00085442</td>\n",
       "      <td>F</td>\n",
       "      <td>0-17</td>\n",
       "      <td>10</td>\n",
       "      <td>A</td>\n",
       "      <td>2</td>\n",
       "      <td>0</td>\n",
       "      <td>12</td>\n",
       "      <td>14.0</td>\n",
       "      <td>NaN</td>\n",
       "      <td>1057.0</td>\n",
       "      <td>train</td>\n",
       "    </tr>\n",
       "    <tr>\n",
       "      <th>4</th>\n",
       "      <td>1000002</td>\n",
       "      <td>P00285442</td>\n",
       "      <td>M</td>\n",
       "      <td>55+</td>\n",
       "      <td>16</td>\n",
       "      <td>C</td>\n",
       "      <td>4+</td>\n",
       "      <td>0</td>\n",
       "      <td>8</td>\n",
       "      <td>NaN</td>\n",
       "      <td>NaN</td>\n",
       "      <td>7969.0</td>\n",
       "      <td>train</td>\n",
       "    </tr>\n",
       "  </tbody>\n",
       "</table>\n",
       "</div>"
      ],
      "text/plain": [
       "   User_ID Product_ID Gender   Age  Occupation City_Category  \\\n",
       "0  1000001  P00069042      F  0-17          10             A   \n",
       "1  1000001  P00248942      F  0-17          10             A   \n",
       "2  1000001  P00087842      F  0-17          10             A   \n",
       "3  1000001  P00085442      F  0-17          10             A   \n",
       "4  1000002  P00285442      M   55+          16             C   \n",
       "\n",
       "  Stay_In_Current_City_Years  Marital_Status  Product_Category_1  \\\n",
       "0                          2               0                   3   \n",
       "1                          2               0                   1   \n",
       "2                          2               0                  12   \n",
       "3                          2               0                  12   \n",
       "4                         4+               0                   8   \n",
       "\n",
       "   Product_Category_2  Product_Category_3  Purchase   kind  \n",
       "0                 NaN                 NaN    8370.0  train  \n",
       "1                 6.0                14.0   15200.0  train  \n",
       "2                 NaN                 NaN    1422.0  train  \n",
       "3                14.0                 NaN    1057.0  train  \n",
       "4                 NaN                 NaN    7969.0  train  "
      ]
     },
     "execution_count": 5,
     "metadata": {},
     "output_type": "execute_result"
    }
   ],
   "source": [
    "print(combine.shape)\n",
    "combine.head()\n",
    "\n",
    "# you can see , we got some missing values in the data"
   ]
  },
  {
   "cell_type": "code",
   "execution_count": 6,
   "metadata": {},
   "outputs": [
    {
     "name": "stdout",
     "output_type": "stream",
     "text": [
      "<class 'pandas.core.frame.DataFrame'>\n",
      "Int64Index: 783667 entries, 0 to 233598\n",
      "Data columns (total 13 columns):\n",
      " #   Column                      Non-Null Count   Dtype  \n",
      "---  ------                      --------------   -----  \n",
      " 0   User_ID                     783667 non-null  int64  \n",
      " 1   Product_ID                  783667 non-null  object \n",
      " 2   Gender                      783667 non-null  object \n",
      " 3   Age                         783667 non-null  object \n",
      " 4   Occupation                  783667 non-null  int64  \n",
      " 5   City_Category               783667 non-null  object \n",
      " 6   Stay_In_Current_City_Years  783667 non-null  object \n",
      " 7   Marital_Status              783667 non-null  int64  \n",
      " 8   Product_Category_1          783667 non-null  int64  \n",
      " 9   Product_Category_2          537685 non-null  float64\n",
      " 10  Product_Category_3          237858 non-null  float64\n",
      " 11  Purchase                    550068 non-null  float64\n",
      " 12  kind                        783667 non-null  object \n",
      "dtypes: float64(3), int64(4), object(6)\n",
      "memory usage: 83.7+ MB\n"
     ]
    }
   ],
   "source": [
    "combine.info()\n",
    "\n",
    "# don't be afraid from the missing data in Purchase , they are from the test data"
   ]
  },
  {
   "cell_type": "code",
   "execution_count": 7,
   "metadata": {},
   "outputs": [],
   "source": [
    "# change the columns to object type \n",
    "\n",
    "combine['Marital_Status'] = combine['Marital_Status'].astype('O')\n",
    "combine['Occupation'] = combine['Occupation'].astype('O')\n",
    "combine['Product_Category_1'] = combine['Product_Category_1'].astype('O')\n",
    "combine['Product_Category_2'] = combine['Product_Category_2'].astype('O')\n",
    "combine['Product_Category_3'] = combine['Product_Category_3'].astype('O')"
   ]
  },
  {
   "cell_type": "code",
   "execution_count": 8,
   "metadata": {},
   "outputs": [
    {
     "data": {
      "text/html": [
       "<div>\n",
       "<style scoped>\n",
       "    .dataframe tbody tr th:only-of-type {\n",
       "        vertical-align: middle;\n",
       "    }\n",
       "\n",
       "    .dataframe tbody tr th {\n",
       "        vertical-align: top;\n",
       "    }\n",
       "\n",
       "    .dataframe thead th {\n",
       "        text-align: right;\n",
       "    }\n",
       "</style>\n",
       "<table border=\"1\" class=\"dataframe\">\n",
       "  <thead>\n",
       "    <tr style=\"text-align: right;\">\n",
       "      <th></th>\n",
       "      <th>User_ID</th>\n",
       "      <th>Purchase</th>\n",
       "    </tr>\n",
       "  </thead>\n",
       "  <tbody>\n",
       "    <tr>\n",
       "      <th>count</th>\n",
       "      <td>7.836670e+05</td>\n",
       "      <td>550068.000000</td>\n",
       "    </tr>\n",
       "    <tr>\n",
       "      <th>mean</th>\n",
       "      <td>1.003029e+06</td>\n",
       "      <td>9263.968713</td>\n",
       "    </tr>\n",
       "    <tr>\n",
       "      <th>std</th>\n",
       "      <td>1.727267e+03</td>\n",
       "      <td>5023.065394</td>\n",
       "    </tr>\n",
       "    <tr>\n",
       "      <th>min</th>\n",
       "      <td>1.000001e+06</td>\n",
       "      <td>12.000000</td>\n",
       "    </tr>\n",
       "    <tr>\n",
       "      <th>25%</th>\n",
       "      <td>1.001519e+06</td>\n",
       "      <td>5823.000000</td>\n",
       "    </tr>\n",
       "    <tr>\n",
       "      <th>50%</th>\n",
       "      <td>1.003075e+06</td>\n",
       "      <td>8047.000000</td>\n",
       "    </tr>\n",
       "    <tr>\n",
       "      <th>75%</th>\n",
       "      <td>1.004478e+06</td>\n",
       "      <td>12054.000000</td>\n",
       "    </tr>\n",
       "    <tr>\n",
       "      <th>max</th>\n",
       "      <td>1.006040e+06</td>\n",
       "      <td>23961.000000</td>\n",
       "    </tr>\n",
       "  </tbody>\n",
       "</table>\n",
       "</div>"
      ],
      "text/plain": [
       "            User_ID       Purchase\n",
       "count  7.836670e+05  550068.000000\n",
       "mean   1.003029e+06    9263.968713\n",
       "std    1.727267e+03    5023.065394\n",
       "min    1.000001e+06      12.000000\n",
       "25%    1.001519e+06    5823.000000\n",
       "50%    1.003075e+06    8047.000000\n",
       "75%    1.004478e+06   12054.000000\n",
       "max    1.006040e+06   23961.000000"
      ]
     },
     "execution_count": 8,
     "metadata": {},
     "output_type": "execute_result"
    }
   ],
   "source": [
    "combine.describe()"
   ]
  },
  {
   "cell_type": "code",
   "execution_count": 9,
   "metadata": {
    "scrolled": true
   },
   "outputs": [
    {
     "data": {
      "text/html": [
       "<div>\n",
       "<style scoped>\n",
       "    .dataframe tbody tr th:only-of-type {\n",
       "        vertical-align: middle;\n",
       "    }\n",
       "\n",
       "    .dataframe tbody tr th {\n",
       "        vertical-align: top;\n",
       "    }\n",
       "\n",
       "    .dataframe thead th {\n",
       "        text-align: right;\n",
       "    }\n",
       "</style>\n",
       "<table border=\"1\" class=\"dataframe\">\n",
       "  <thead>\n",
       "    <tr style=\"text-align: right;\">\n",
       "      <th></th>\n",
       "      <th>Product_ID</th>\n",
       "      <th>Gender</th>\n",
       "      <th>Age</th>\n",
       "      <th>Occupation</th>\n",
       "      <th>City_Category</th>\n",
       "      <th>Stay_In_Current_City_Years</th>\n",
       "      <th>Marital_Status</th>\n",
       "      <th>Product_Category_1</th>\n",
       "      <th>Product_Category_2</th>\n",
       "      <th>Product_Category_3</th>\n",
       "      <th>kind</th>\n",
       "    </tr>\n",
       "  </thead>\n",
       "  <tbody>\n",
       "    <tr>\n",
       "      <th>count</th>\n",
       "      <td>783667</td>\n",
       "      <td>783667</td>\n",
       "      <td>783667</td>\n",
       "      <td>783667</td>\n",
       "      <td>783667</td>\n",
       "      <td>783667</td>\n",
       "      <td>783667</td>\n",
       "      <td>783667</td>\n",
       "      <td>537685.0</td>\n",
       "      <td>237858.0</td>\n",
       "      <td>783667</td>\n",
       "    </tr>\n",
       "    <tr>\n",
       "      <th>unique</th>\n",
       "      <td>3677</td>\n",
       "      <td>2</td>\n",
       "      <td>7</td>\n",
       "      <td>21</td>\n",
       "      <td>3</td>\n",
       "      <td>5</td>\n",
       "      <td>2</td>\n",
       "      <td>20</td>\n",
       "      <td>17.0</td>\n",
       "      <td>15.0</td>\n",
       "      <td>2</td>\n",
       "    </tr>\n",
       "    <tr>\n",
       "      <th>top</th>\n",
       "      <td>P00265242</td>\n",
       "      <td>M</td>\n",
       "      <td>26-35</td>\n",
       "      <td>4</td>\n",
       "      <td>B</td>\n",
       "      <td>1</td>\n",
       "      <td>0</td>\n",
       "      <td>5</td>\n",
       "      <td>8.0</td>\n",
       "      <td>16.0</td>\n",
       "      <td>train</td>\n",
       "    </tr>\n",
       "    <tr>\n",
       "      <th>freq</th>\n",
       "      <td>2709</td>\n",
       "      <td>590031</td>\n",
       "      <td>313015</td>\n",
       "      <td>103086</td>\n",
       "      <td>329739</td>\n",
       "      <td>276425</td>\n",
       "      <td>462538</td>\n",
       "      <td>215950</td>\n",
       "      <td>91317.0</td>\n",
       "      <td>46469.0</td>\n",
       "      <td>550068</td>\n",
       "    </tr>\n",
       "  </tbody>\n",
       "</table>\n",
       "</div>"
      ],
      "text/plain": [
       "       Product_ID  Gender     Age  Occupation City_Category  \\\n",
       "count      783667  783667  783667      783667        783667   \n",
       "unique       3677       2       7          21             3   \n",
       "top     P00265242       M   26-35           4             B   \n",
       "freq         2709  590031  313015      103086        329739   \n",
       "\n",
       "       Stay_In_Current_City_Years  Marital_Status  Product_Category_1  \\\n",
       "count                      783667          783667              783667   \n",
       "unique                          5               2                  20   \n",
       "top                             1               0                   5   \n",
       "freq                       276425          462538              215950   \n",
       "\n",
       "        Product_Category_2  Product_Category_3    kind  \n",
       "count             537685.0            237858.0  783667  \n",
       "unique                17.0                15.0       2  \n",
       "top                    8.0                16.0   train  \n",
       "freq               91317.0             46469.0  550068  "
      ]
     },
     "execution_count": 9,
     "metadata": {},
     "output_type": "execute_result"
    }
   ],
   "source": [
    "combine.describe(include='O')"
   ]
  },
  {
   "cell_type": "code",
   "execution_count": 10,
   "metadata": {},
   "outputs": [
    {
     "data": {
      "text/plain": [
       "User_ID                            0\n",
       "Product_ID                         0\n",
       "Gender                             0\n",
       "Age                                0\n",
       "Occupation                         0\n",
       "City_Category                      0\n",
       "Stay_In_Current_City_Years         0\n",
       "Marital_Status                     0\n",
       "Product_Category_1                 0\n",
       "Product_Category_2            245982\n",
       "Product_Category_3            545809\n",
       "Purchase                      233599\n",
       "kind                               0\n",
       "dtype: int64"
      ]
     },
     "execution_count": 10,
     "metadata": {},
     "output_type": "execute_result"
    }
   ],
   "source": [
    "combine.isnull().sum()"
   ]
  },
  {
   "cell_type": "code",
   "execution_count": 11,
   "metadata": {},
   "outputs": [
    {
     "data": {
      "image/png": "[encoded data removed]",
      "text/plain": [
       "<Figure size 1800x720 with 2 Axes>"
      ]
     },
     "metadata": {
      "needs_background": "light"
     },
     "output_type": "display_data"
    }
   ],
   "source": [
    "c\n",
    "\n",
    "# ohhh, we got a lot of missing data in Product_Category_3"
   ]
  },
  {
   "cell_type": "code",
   "execution_count": null,
   "metadata": {},
   "outputs": [],
   "source": [
    "target = 'Purchase'\n",
    "cat_col = ['Age', 'City_Category', 'Gender', 'Marital_Status', 'Stay_In_Current_City_Years',\n",
    "           'Occupation', 'Product_Category_1', 'Product_Category_2', 'Product_Category_3']"
   ]
  },
  {
   "cell_type": "code",
   "execution_count": 12,
   "metadata": {},
   "outputs": [
    {
     "ename": "NameError",
     "evalue": "name 'cat_col' is not defined",
     "output_type": "error",
     "traceback": [
      "\u001b[0;31m---------------------------------------------------------------------------\u001b[0m",
      "\u001b[0;31mNameError\u001b[0m                                 Traceback (most recent call last)",
      "\u001b[0;32m<ipython-input-12-16a2781326aa>\u001b[0m in \u001b[0;36m<module>\u001b[0;34m\u001b[0m\n\u001b[1;32m      4\u001b[0m \u001b[0mfig\u001b[0m\u001b[0;34m,\u001b[0m \u001b[0max\u001b[0m \u001b[0;34m=\u001b[0m \u001b[0mplt\u001b[0m\u001b[0;34m.\u001b[0m\u001b[0msubplots\u001b[0m\u001b[0;34m(\u001b[0m\u001b[0;36m5\u001b[0m\u001b[0;34m,\u001b[0m\u001b[0;36m2\u001b[0m\u001b[0;34m,\u001b[0m \u001b[0mfigsize\u001b[0m\u001b[0;34m=\u001b[0m\u001b[0;34m(\u001b[0m\u001b[0;36m15\u001b[0m\u001b[0;34m,\u001b[0m\u001b[0;36m18\u001b[0m\u001b[0;34m)\u001b[0m\u001b[0;34m)\u001b[0m\u001b[0;34m\u001b[0m\u001b[0;34m\u001b[0m\u001b[0m\n\u001b[1;32m      5\u001b[0m \u001b[0max\u001b[0m\u001b[0;34m.\u001b[0m\u001b[0mflat\u001b[0m\u001b[0;34m[\u001b[0m\u001b[0;34m-\u001b[0m\u001b[0;36m1\u001b[0m\u001b[0;34m]\u001b[0m\u001b[0;34m.\u001b[0m\u001b[0mset_visible\u001b[0m\u001b[0;34m(\u001b[0m\u001b[0;32mFalse\u001b[0m\u001b[0;34m)\u001b[0m \u001b[0;31m# to remove last plot\u001b[0m\u001b[0;34m\u001b[0m\u001b[0;34m\u001b[0m\u001b[0m\n\u001b[0;32m----> 6\u001b[0;31m \u001b[0;32mfor\u001b[0m \u001b[0mi\u001b[0m\u001b[0;34m,\u001b[0m\u001b[0mcol\u001b[0m \u001b[0;32min\u001b[0m \u001b[0menumerate\u001b[0m\u001b[0;34m(\u001b[0m\u001b[0mcat_col\u001b[0m\u001b[0;34m)\u001b[0m\u001b[0;34m:\u001b[0m\u001b[0;34m\u001b[0m\u001b[0;34m\u001b[0m\u001b[0m\n\u001b[0m\u001b[1;32m      7\u001b[0m     \u001b[0mplt\u001b[0m\u001b[0;34m.\u001b[0m\u001b[0msubplot\u001b[0m\u001b[0;34m(\u001b[0m\u001b[0;36m5\u001b[0m\u001b[0;34m,\u001b[0m\u001b[0;36m2\u001b[0m\u001b[0;34m,\u001b[0m\u001b[0mi\u001b[0m\u001b[0;34m+\u001b[0m\u001b[0;36m1\u001b[0m\u001b[0;34m)\u001b[0m\u001b[0;34m\u001b[0m\u001b[0;34m\u001b[0m\u001b[0m\n\u001b[1;32m      8\u001b[0m     \u001b[0msns\u001b[0m\u001b[0;34m.\u001b[0m\u001b[0mbarplot\u001b[0m\u001b[0;34m(\u001b[0m\u001b[0mx\u001b[0m\u001b[0;34m=\u001b[0m\u001b[0mcol\u001b[0m\u001b[0;34m,\u001b[0m \u001b[0my\u001b[0m\u001b[0;34m=\u001b[0m\u001b[0mtarget\u001b[0m\u001b[0;34m,\u001b[0m \u001b[0mdata\u001b[0m\u001b[0;34m=\u001b[0m\u001b[0mcombine\u001b[0m\u001b[0;34m)\u001b[0m\u001b[0;34m\u001b[0m\u001b[0;34m\u001b[0m\u001b[0m\n",
      "\u001b[0;31mNameError\u001b[0m: name 'cat_col' is not defined"
     ]
    },
    {
     "data": {
      "image/png": "[encoded data removed]",
      "text/plain": [
       "<Figure size 1080x1296 with 10 Axes>"
      ]
     },
     "metadata": {
      "needs_background": "light"
     },
     "output_type": "display_data"
    }
   ],
   "source": [
    "# let's try to see the relation between the labels and the target\n",
    "# It will take some time\n",
    "\n",
    "fig, ax = plt.subplots(5,2, figsize=(15,18))\n",
    "ax.flat[-1].set_visible(False) # to remove last plot\n",
    "for i,col in enumerate(cat_col):\n",
    "    plt.subplot(5,2,i+1)\n",
    "    sns.barplot(x=col, y=target, data=combine)\n",
    "    plt.xlabel(col)\n",
    "    plt.ylabel(target)"
   ]
  },
  {
   "cell_type": "markdown",
   "metadata": {},
   "source": [
    "## In this kernel i will not focus on process the data (feature engineer), so we will not change anything in the data\n",
    "\n",
    "## If you like to learn some feature engineer you can visit my [kernel](https://www.kaggle.com/yaheaal/loan-status-with-different-models)"
   ]
  },
  {
   "cell_type": "code",
   "execution_count": null,
   "metadata": {},
   "outputs": [],
   "source": [
    "# visualize the count of every feature\n",
    "\n",
    "fig, ax = plt.subplots(5,2, figsize=(15,18))\n",
    "ax.flat[-1].set_visible(False) # to remove last plot\n",
    "for i,col in enumerate(cat_col):\n",
    "    plt.subplot(5,2,i+1)\n",
    "    sns.countplot(x=col, data=combine)\n",
    "    plt.xlabel(col)"
   ]
  },
  {
   "cell_type": "markdown",
   "metadata": {},
   "source": [
    "# Missing data"
   ]
  },
  {
   "cell_type": "code",
   "execution_count": null,
   "metadata": {},
   "outputs": [],
   "source": [
    "# here i will just add two columns to specify the row that got missing value, so 1 if the row is missing and 0 if not\n",
    "# and i will use them as a features\n",
    "combine['miss_1'] = [1 if x!=x else 0 for x in combine['Product_Category_3']]\n",
    "combine['miss_2'] = [1 if x!=x else 0 for x in combine['Product_Category_2']]\n",
    "\n",
    "# fill the missing data\n",
    "combine['Product_Category_3'].fillna(method='bfill', inplace=True)\n",
    "combine['Product_Category_2'].fillna(method='bfill', inplace=True)\n",
    "combine.dropna(subset=['Product_Category_3'],inplace=True)"
   ]
  },
  {
   "cell_type": "markdown",
   "metadata": {},
   "source": [
    "# handle categorical features"
   ]
  },
  {
   "cell_type": "code",
   "execution_count": null,
   "metadata": {},
   "outputs": [],
   "source": [
    "age_cat = {'0-17':0, '18-25':1, '26-35':2, '36-45':3, '46-50':4, '51-55':5, '55+':6}\n",
    "combine['Age'] = combine['Age'].map(age_cat)\n",
    "\n",
    "city_cat = pd.get_dummies(combine['City_Category'], drop_first=True, prefix='City_Category')\n",
    "combine = pd.concat([combine, city_cat], axis=1)\n",
    "combine.drop('City_Category', axis=1, inplace=True)\n",
    "\n",
    "gender_cat = {'M':0, 'F':1}\n",
    "combine['Gender'] = combine['Gender'].map(gender_cat)\n",
    "\n",
    "stay_cat = pd.get_dummies(combine['Stay_In_Current_City_Years'], drop_first=True, prefix='Stay_In_Current_City_Years')\n",
    "combine = pd.concat([combine, stay_cat], axis=1)\n",
    "combine.drop('Stay_In_Current_City_Years', axis=1, inplace=True)"
   ]
  },
  {
   "cell_type": "code",
   "execution_count": null,
   "metadata": {},
   "outputs": [],
   "source": [
    "combine"
   ]
  },
  {
   "cell_type": "code",
   "execution_count": null,
   "metadata": {},
   "outputs": [],
   "source": [
    "# separate the data\n",
    "\n",
    "train = combine[combine['kind'] == 'train']\n",
    "test = combine[combine['kind'] == 'test']\n",
    "\n",
    "train.drop(['kind'], axis=1, inplace=True)\n",
    "test.drop(['kind','Purchase'], axis=1, inplace=True)"
   ]
  },
  {
   "cell_type": "code",
   "execution_count": null,
   "metadata": {},
   "outputs": [],
   "source": [
    "train.head()"
   ]
  },
  {
   "cell_type": "code",
   "execution_count": null,
   "metadata": {},
   "outputs": [],
   "source": [
    "test.head()"
   ]
  },
  {
   "cell_type": "markdown",
   "metadata": {},
   "source": [
    "# build the function"
   ]
  },
  {
   "cell_type": "code",
   "execution_count": null,
   "metadata": {},
   "outputs": [],
   "source": [
    "ID_col = ['Product_ID','User_ID']\n",
    "target = ['Purchase']\n",
    "features = train.columns.drop(ID_col+target)\n",
    "\n",
    "def train_eval(model, features, target, cv):\n",
    "    X = train[features].values\n",
    "    y = train[target]\n",
    "    \n",
    "    # i will just calculate the time needed to fit the model one time\n",
    "    time0 = time.time()\n",
    "    model.fit(X, y)\n",
    "    time1 = time.time()\n",
    "    \n",
    "    mse = mean_squared_error(y, model.predict(X))\n",
    "    rmse = np.sqrt(mse)\n",
    "    \n",
    "    cross_mse = cross_val_score(model, X, y, scoring='neg_mean_squared_error', cv=cv, n_jobs=-1)\n",
    "    cross_rmse = np.sqrt(np.absolute(cross_mse))\n",
    "    mean = np.mean(cross_rmse)\n",
    "    max_ = np.max(cross_rmse)\n",
    "    min_ = np.min(cross_rmse)\n",
    "    std = np.std(cross_rmse)\n",
    "    \n",
    "    print('RMSE : %.4g' % rmse)\n",
    "    print('cv_%.1g : RMSE - %.4g | std - %.4g | max - %.4g | min - %.4g' % (cv,mean, std, max_, min_))\n",
    "    print('Time complexity: {} sec'.format(round((time1-time0),2)))"
   ]
  },
  {
   "cell_type": "markdown",
   "metadata": {},
   "source": [
    "### SVR"
   ]
  },
  {
   "cell_type": "code",
   "execution_count": null,
   "metadata": {},
   "outputs": [],
   "source": [
    "svr = LinearSVR(random_state=42)\n",
    "train_eval(svr, features, target, 5)"
   ]
  },
  {
   "cell_type": "markdown",
   "metadata": {},
   "source": [
    "### RandomForest"
   ]
  },
  {
   "cell_type": "code",
   "execution_count": null,
   "metadata": {},
   "outputs": [],
   "source": [
    "rf = RandomForestRegressor(max_depth=15, min_samples_leaf=100, n_jobs=-1, random_state=42)\n",
    "train_eval(rf, features, target, 5)"
   ]
  },
  {
   "cell_type": "markdown",
   "metadata": {},
   "source": [
    "### Neighbors"
   ]
  },
  {
   "cell_type": "code",
   "execution_count": null,
   "metadata": {},
   "outputs": [],
   "source": [
    "knn = KNeighborsRegressor(n_neighbors=10, n_jobs=-1)\n",
    "train_eval(knn, features, target, 5)"
   ]
  },
  {
   "cell_type": "markdown",
   "metadata": {},
   "source": [
    "### Boosting"
   ]
  },
  {
   "cell_type": "code",
   "execution_count": null,
   "metadata": {
    "scrolled": true
   },
   "outputs": [],
   "source": [
    "boost = GradientBoostingRegressor(max_depth=3, min_samples_leaf=100, n_estimators=50, random_state=42)\n",
    "train_eval(boost, features, target, 3)"
   ]
  },
  {
   "cell_type": "markdown",
   "metadata": {},
   "source": [
    "### DecisiongTree"
   ]
  },
  {
   "cell_type": "code",
   "execution_count": null,
   "metadata": {},
   "outputs": [],
   "source": [
    "tree = DecisionTreeRegressor(max_depth=15, min_samples_leaf=100, random_state=42)\n",
    "train_eval(tree, features, target, 5)"
   ]
  },
  {
   "cell_type": "markdown",
   "metadata": {},
   "source": [
    "### XGBoost"
   ]
  },
  {
   "cell_type": "code",
   "execution_count": null,
   "metadata": {},
   "outputs": [],
   "source": [
    "model = XGBRegressor(n_estimators=50, max_depth=15, random_state=42, objective='reg:squarederror', n_jobs=-1)\n",
    "train_eval(model, features, target, 5)"
   ]
  },
  {
   "cell_type": "markdown",
   "metadata": {},
   "source": [
    "**I choose to go with XGBoost**"
   ]
  },
  {
   "cell_type": "markdown",
   "metadata": {},
   "source": [
    "# hyperparameter tuning"
   ]
  },
  {
   "cell_type": "code",
   "execution_count": null,
   "metadata": {},
   "outputs": [],
   "source": [
    "model = XGBRegressor(n_estimators=50, random_state=42, objective='reg:squarederror', verbose=3, n_jobs=-1)\n",
    "\n",
    "param = {'learning_rate' : np.random.uniform(0.1, 0.4, 50),\n",
    "         'gamma' : np.random.uniform(0.3, 0.6, 50),\n",
    "         'max_depth' : np.random.randint(5, 20, 10),\n",
    "         'min_child_weight' : np.random.randint(1, 7, 10),\n",
    "         'subsample' : [0.7, 0.8, 0.9, 1.0],\n",
    "         'tree_method' : ['approx', 'gpu_hist']}\n",
    "\n",
    "rnd = RandomizedSearchCV(model, param, n_iter=50,scoring='neg_mean_squared_error', cv=3, verbose=3)"
   ]
  },
  {
   "cell_type": "code",
   "execution_count": null,
   "metadata": {
    "scrolled": true
   },
   "outputs": [],
   "source": [
    "# it will take alot of time so i will just give you the result\n",
    "\n",
    "#%%time\n",
    "#rnd.fit(X_train, y_train)"
   ]
  },
  {
   "cell_type": "code",
   "execution_count": null,
   "metadata": {
    "scrolled": true
   },
   "outputs": [],
   "source": [
    "'''\n",
    "XGBRegressor(base_score=0.5, booster='gbtree', colsample_bylevel=1,\n",
    "             colsample_bynode=1, colsample_bytree=1, gamma=0.3026809093085653,\n",
    "             importance_type='gain', learning_rate=0.22998204097725214,\n",
    "             max_delta_step=0, max_depth=9, min_child_weight=1, missing=None,\n",
    "             n_estimators=50, n_jobs=-1, nthread=None,\n",
    "             objective='reg:squarederror', random_state=42, reg_alpha=0,\n",
    "             reg_lambda=1, scale_pos_weight=1, seed=None, silent=None,\n",
    "             subsample=0.8, tree_method='approx', verbose=3, verbosity=1)\n",
    "'''"
   ]
  },
  {
   "cell_type": "markdown",
   "metadata": {},
   "source": [
    "## why we use early stopping\n",
    "\n",
    "**Get the best loss on the test data :**\n",
    "as you can see in the photo below, the training error keeps reducing as we keep iterating ,while at a specific point\n",
    "the test error start to increase so we want to find the best number of iterations that give us the best error\n",
    "\n",
    "**Avoid the overfitting :**\n",
    "if we keep iterating we will start to overfitting the data where the model will preforme good on the training data but bad\n",
    "on the test"
   ]
  },
  {
   "attachments": {
    "early_stoping.jpg": {
     "image/jpeg": "[encoded data removed]"
    }
   },
   "cell_type": "markdown",
   "metadata": {},
   "source": [
    "![early_stoping.jpg](attachment:early_stoping.jpg)"
   ]
  },
  {
   "cell_type": "code",
   "execution_count": null,
   "metadata": {},
   "outputs": [],
   "source": [
    "X = train[features].values\n",
    "y = train[target].values\n",
    "X_train, X_eval, y_train, y_eval = train_test_split(X, y, test_size=0.1, random_state=42)\n",
    "\n",
    "n_estimators = 1000\n",
    "\n",
    "model = XGBRegressor(base_score=0.5, booster='gbtree', colsample_bylevel=1,\n",
    "             colsample_bynode=1, colsample_bytree=1, gamma=0.3026809093085653,\n",
    "             importance_type='gain', learning_rate=0.22998204097725214,\n",
    "             max_delta_step=0, max_depth=9, min_child_weight=1, missing=None,\n",
    "             n_estimators=n_estimators, n_jobs=-1, nthread=None,\n",
    "             objective='reg:squarederror', random_state=42, reg_alpha=0,\n",
    "             reg_lambda=1, scale_pos_weight=1, seed=None, silent=None,\n",
    "             subsample=0.8, tree_method='gpu_hist', verbose=3, verbosity=1)"
   ]
  },
  {
   "cell_type": "code",
   "execution_count": null,
   "metadata": {
    "scrolled": true
   },
   "outputs": [],
   "source": [
    "model.fit(X_train, y_train, eval_set=[[X_eval, y_eval]], eval_metric=['rmse'], early_stopping_rounds=30, verbose=3)"
   ]
  },
  {
   "cell_type": "code",
   "execution_count": null,
   "metadata": {},
   "outputs": [],
   "source": [
    "n_estimators = 52  # it may be different number for you\n",
    "\n",
    "final_model = XGBRegressor(base_score=0.5, booster='gbtree', colsample_bylevel=1,\n",
    "             colsample_bynode=1, colsample_bytree=1, gamma=0.3026809093085653,\n",
    "             importance_type='gain', learning_rate=0.22998204097725214,\n",
    "             max_delta_step=0, max_depth=9, min_child_weight=1, missing=None,\n",
    "             n_estimators=n_estimators, n_jobs=-1, nthread=None,\n",
    "             objective='reg:squarederror', random_state=42, reg_alpha=0,\n",
    "             reg_lambda=1, scale_pos_weight=1, seed=None, silent=None,\n",
    "             subsample=0.8, tree_method='gpu_hist', verbose=3, verbosity=1)"
   ]
  },
  {
   "cell_type": "code",
   "execution_count": null,
   "metadata": {},
   "outputs": [],
   "source": [
    "final_model.fit(X_train, y_train, verbose=3)\n",
    "pred = final_model.predict(X_eval)\n",
    "print(np.sqrt(mean_squared_error(y_eval, pred)))"
   ]
  },
  {
   "cell_type": "markdown",
   "metadata": {},
   "source": [
    "**nice , we get rmse = 2880, so know let's try deep learning models**\n",
    "\n",
    "**Hint, i didn't predict the test data, so i will keep that as a homework for you**"
   ]
  },
  {
   "cell_type": "markdown",
   "metadata": {},
   "source": [
    "# Deep learning"
   ]
  },
  {
   "cell_type": "code",
   "execution_count": null,
   "metadata": {},
   "outputs": [],
   "source": [
    "# first we need to scale the data\n",
    "\n",
    "MMS = MinMaxScaler()\n",
    "\n",
    "X_train_scale = MMS.fit_transform(X_train)\n",
    "X_eval_scale = MMS.transform(X_eval)"
   ]
  },
  {
   "cell_type": "code",
   "execution_count": null,
   "metadata": {},
   "outputs": [],
   "source": [
    "# we will make 3 loops for number of layers , neurons and batch_size\n",
    "# so first loop will content n_layers=1, n_neurons=32, batch_size=16\n",
    "# second one will be 1,32,32 then 1,32,64 and so on....\n",
    "# last loop will be 4,265,128\n",
    "# we will save every loss in a list to visualize all the losses together\n",
    "\n",
    "n_layers = [1,2,3,4]\n",
    "n_neurons = [32, 64, 128, 256]\n",
    "batch_size= [16, 32, 64, 128]\n",
    "early_stopping_cb = keras.callbacks.EarlyStopping(patience=5,\n",
    "                                                  restore_best_weights=True)\n",
    "\n",
    "# If true , will take so much time so i will give you the result below\n",
    "search = False\n",
    "\n",
    "if search:\n",
    "    loss = []\n",
    "    txt = []\n",
    "    for layer in n_layers:\n",
    "        for neuron in n_neurons:\n",
    "            for batch in batch_size:\n",
    "                name = 'layers-{} | neruons-{} | batchs-{}'.format(layer, neuron, batch)\n",
    "                print('\\n')\n",
    "                print('='*125)\n",
    "                print(name,'\\n')\n",
    "\n",
    "                model = Sequential()\n",
    "                model.add(Dense(neuron, kernel_initializer=\"he_normal\", input_dim=15))\n",
    "                model.add(LeakyReLU(alpha=0.1))\n",
    "                model.add(BatchNormalization())  \n",
    "\n",
    "                for l in range(layer - 1): # -1 because we build one before the for loop\n",
    "                    model.add(Dense(neuron, kernel_initializer=\"he_normal\"))\n",
    "                    model.add(LeakyReLU(alpha=0.1)),\n",
    "                    model.add(BatchNormalization()),\n",
    "                model.add(Dense(1, kernel_initializer=\"he_normal\"))\n",
    "\n",
    "                model.compile(optimizer='adam', loss='mean_squared_error')\n",
    "                history = model.fit(X_train_scale, y_train, batch_size=batch, epochs=1000, validation_split=0.1, callbacks=[early_stopping_cb])\n",
    "\n",
    "                loss.append(np.sqrt(history.history['val_loss'][-6])) # -6 because patience in earlystopping is 5 so the best loss will be number 6 from the end\n",
    "                txt.append((layer, neuron, batch))\n",
    "                \n",
    "else:\n",
    "    loss = [4538.162773310764, 4528.919546972363, 4555.206869875014, 4561.817443199395, 4558.771822474467, 4557.159006431591, \n",
    "        4605.243145800776, 4580.730821199933, 4550.426779886288, 4600.969973321105, 4514.815304732046, 4590.007836975674, \n",
    "        4697.22794764056, 4611.343550835154, 4562.681806878502, 4627.150532965219, 4084.99564872551, 3176.5464741258747, \n",
    "        2971.45652539503, 3161.776962105597, 3431.6057047023446, 3409.0539069052274, 3404.063835529596, 3017.743664052202, \n",
    "        3362.4215380931564, 3435.136638901797, 3010.438233249307, 2954.5457607921167, 3514.0812406716905, 3025.4181226816495, \n",
    "        3623.275705812271, 3105.316447277697, 3411.2868990944658, 3201.5642396290564, 3030.843532987632, 3471.2225649325574, \n",
    "        3085.508463558903, 2970.8279084851756, 3006.955357134481, 2947.6093123558067, 3023.803862751194, 2967.196445916267, \n",
    "        3041.0858906564627, 3024.843955508851, 3593.8802212212427, 3508.910344462979, 3242.077742120429, 2943.1258859942195, \n",
    "        3075.5810428356244, 2972.1642022285787, 2979.3162717056316, 2936.2644732625654, 3038.3183314715366, 3013.34612037504, \n",
    "        2985.3935757584327, 2922.5277112184617, 3113.683920719498, 2912.986334504327, 2959.154126819401, 2919.3430413121396, \n",
    "        3362.828334393951, 2950.6100355806257, 2935.4806295933245, 3131.7943371843767]\n",
    "\n",
    "    txt = [(1, 32, 16), (1, 32, 32), (1, 32, 64), (1, 32, 128), (1, 64, 16), (1, 64, 32), (1, 64, 64), (1, 64, 128), (1, 128, 16),\n",
    "           (1, 128, 32), (1, 128, 64), (1, 128, 128), (1, 256, 16), (1, 256, 32), (1, 256, 64), (1, 256, 128), (2, 32, 16),\n",
    "           (2, 32, 32), (2, 32, 64), (2, 32, 128), (2, 64, 16), (2, 64, 32), (2, 64, 64), (2, 64, 128), (2, 128, 16), (2, 128, 32),\n",
    "           (2, 128, 64), (2, 128, 128), (2, 256, 16), (2, 256, 32), (2, 256, 64), (2, 256, 128), (3, 32, 16), (3, 32, 32),\n",
    "           (3, 32, 64), (3, 32, 128), (3, 64, 16), (3, 64, 32), (3, 64, 64), (3, 64, 128), (3, 128, 16), (3, 128, 32), (3, 128, 64),\n",
    "           (3, 128, 128), (3, 256, 16), (3, 256, 32), (3, 256, 64), (3, 256, 128), (4, 32, 16), (4, 32, 32), (4, 32, 64),\n",
    "           (4, 32, 128), (4, 64, 16), (4, 64, 32), (4, 64, 64), (4, 64, 128), (4, 128, 16), (4, 128, 32), (4, 128, 64),\n",
    "           (4, 128, 128), (4, 256, 16), (4, 256, 32), (4, 256, 64), (4, 256, 128)]"
   ]
  },
  {
   "cell_type": "code",
   "execution_count": null,
   "metadata": {},
   "outputs": [],
   "source": [
    "# let's take a better look on the probabilities to know what should we choose \n",
    "\n",
    "x_axis = np.arange(1,len(loss)+1)\n",
    "y_axis = loss\n",
    "\n",
    "fig, ax = plt.subplots(figsize=(30,10))\n",
    "plt.plot(x_axis, y_axis, '-o')\n",
    "\n",
    "for i, (x_axis,y_axis) in enumerate(zip(x_axis,y_axis)):\n",
    "    plt.text(x_axis,y_axis+20,txt[i])\n",
    "    \n",
    "print('minimum loss :', min(loss))\n",
    "print('values :', txt[np.argmin(loss)])\n",
    "\n",
    "# so know you can choose the value that gives you the minimum loss"
   ]
  },
  {
   "cell_type": "markdown",
   "metadata": {},
   "source": [
    "**the loss decrease when we increase the number of layers ,but it's not a rule , for example: (2, 32, 64) got lower loss than (3,256,16)**"
   ]
  },
  {
   "cell_type": "markdown",
   "metadata": {},
   "source": [
    "**Conclusion:**\n",
    "\n",
    "We figure out that using machine learning techniques **in this data** giving us better results, Although we didn't do any change on the feature we was able to get good results\n"
   ]
  },
  {
   "cell_type": "code",
   "execution_count": null,
   "metadata": {},
   "outputs": [],
   "source": []
  }
 ],
 "metadata": {
  "kernelspec": {
   "display_name": "Python 3 (ipykernel)",
   "language": "python",
   "name": "python3"
  },
  "language_info": {
   "codemirror_mode": {
    "name": "ipython",
    "version": 3
   },
   "file_extension": ".py",
   "mimetype": "text/x-python",
   "name": "python",
   "nbconvert_exporter": "python",
   "pygments_lexer": "ipython3",
   "version": "3.6.9"
  }
 },
 "nbformat": 4,
 "nbformat_minor": 1
}
